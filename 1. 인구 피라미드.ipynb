{
 "cells": [
  {
   "cell_type": "markdown",
   "id": "985635e7",
   "metadata": {},
   "source": [
    "# 1. 인구 피라미드"
   ]
  },
  {
   "cell_type": "markdown",
   "id": "2d381b13",
   "metadata": {},
   "source": [
    "## 남자 데이터 정의"
   ]
  },
  {
   "cell_type": "code",
   "execution_count": 39,
   "id": "58010623",
   "metadata": {},
   "outputs": [],
   "source": [
    "import pandas as pd\n",
    "file_name = '2021.07 인구현황.xlsx'\n",
    "df_m = pd.read_excel(file_name, skiprows = 3,index_col='행정기관', usecols='B,E:Y')\n",
    "df_m.head(3)"
   ]
  },
  {
   "cell_type": "code",
   "execution_count": 38,
   "id": "44796159",
   "metadata": {
    "scrolled": true
   },
   "outputs": [],
   "source": [
    "df_m.iloc[0] = df_m.iloc[0].str.replace(',','').astype(int)"
   ]
  },
  {
   "cell_type": "markdown",
   "id": "0dcd53ae",
   "metadata": {},
   "source": [
    "## 여자 데이터 정의"
   ]
  },
  {
   "cell_type": "code",
   "execution_count": 37,
   "id": "8cd51fb6",
   "metadata": {},
   "outputs": [
    {
     "name": "stderr",
     "output_type": "stream",
     "text": [
      "C:\\Users\\A\\anaconda3\\lib\\site-packages\\openpyxl\\styles\\stylesheet.py:226: UserWarning: Workbook contains no default style, apply openpyxl's default\n",
      "  warn(\"Workbook contains no default style, apply openpyxl's default\")\n"
     ]
    },
    {
     "data": {
      "text/html": [
       "<div>\n",
       "<style scoped>\n",
       "    .dataframe tbody tr th:only-of-type {\n",
       "        vertical-align: middle;\n",
       "    }\n",
       "\n",
       "    .dataframe tbody tr th {\n",
       "        vertical-align: top;\n",
       "    }\n",
       "\n",
       "    .dataframe thead th {\n",
       "        text-align: right;\n",
       "    }\n",
       "</style>\n",
       "<table border=\"1\" class=\"dataframe\">\n",
       "  <thead>\n",
       "    <tr style=\"text-align: right;\">\n",
       "      <th></th>\n",
       "      <th>0~4세.1</th>\n",
       "      <th>5~9세.1</th>\n",
       "      <th>10~14세.1</th>\n",
       "      <th>15~19세.1</th>\n",
       "      <th>20~24세.1</th>\n",
       "      <th>25~29세.1</th>\n",
       "      <th>30~34세.1</th>\n",
       "      <th>35~39세.1</th>\n",
       "      <th>40~44세.1</th>\n",
       "      <th>45~49세.1</th>\n",
       "      <th>...</th>\n",
       "      <th>55~59세.1</th>\n",
       "      <th>60~64세.1</th>\n",
       "      <th>65~69세.1</th>\n",
       "      <th>70~74세.1</th>\n",
       "      <th>75~79세.1</th>\n",
       "      <th>80~84세.1</th>\n",
       "      <th>85~89세.1</th>\n",
       "      <th>90~94세.1</th>\n",
       "      <th>95~99세.1</th>\n",
       "      <th>100세 이상.1</th>\n",
       "    </tr>\n",
       "    <tr>\n",
       "      <th>행정기관</th>\n",
       "      <th></th>\n",
       "      <th></th>\n",
       "      <th></th>\n",
       "      <th></th>\n",
       "      <th></th>\n",
       "      <th></th>\n",
       "      <th></th>\n",
       "      <th></th>\n",
       "      <th></th>\n",
       "      <th></th>\n",
       "      <th></th>\n",
       "      <th></th>\n",
       "      <th></th>\n",
       "      <th></th>\n",
       "      <th></th>\n",
       "      <th></th>\n",
       "      <th></th>\n",
       "      <th></th>\n",
       "      <th></th>\n",
       "      <th></th>\n",
       "      <th></th>\n",
       "    </tr>\n",
       "  </thead>\n",
       "  <tbody>\n",
       "    <tr>\n",
       "      <th>전국</th>\n",
       "      <td>771,303</td>\n",
       "      <td>1,101,805</td>\n",
       "      <td>1,144,939</td>\n",
       "      <td>1,145,215</td>\n",
       "      <td>1,526,366</td>\n",
       "      <td>1,672,811</td>\n",
       "      <td>1,521,351</td>\n",
       "      <td>1,753,338</td>\n",
       "      <td>1,951,550</td>\n",
       "      <td>2,083,054</td>\n",
       "      <td>...</td>\n",
       "      <td>2,025,437</td>\n",
       "      <td>2,079,924</td>\n",
       "      <td>1,512,769</td>\n",
       "      <td>1,120,875</td>\n",
       "      <td>906,147</td>\n",
       "      <td>728,667</td>\n",
       "      <td>427,321</td>\n",
       "      <td>162,110</td>\n",
       "      <td>37,494</td>\n",
       "      <td>8,599</td>\n",
       "    </tr>\n",
       "    <tr>\n",
       "      <th>서울특별시</th>\n",
       "      <td>123,241</td>\n",
       "      <td>168,611</td>\n",
       "      <td>179,966</td>\n",
       "      <td>193,037</td>\n",
       "      <td>323,074</td>\n",
       "      <td>422,092</td>\n",
       "      <td>365,324</td>\n",
       "      <td>359,907</td>\n",
       "      <td>368,287</td>\n",
       "      <td>387,183</td>\n",
       "      <td>...</td>\n",
       "      <td>360,552</td>\n",
       "      <td>381,520</td>\n",
       "      <td>290,836</td>\n",
       "      <td>216,436</td>\n",
       "      <td>162,845</td>\n",
       "      <td>113,074</td>\n",
       "      <td>61,027</td>\n",
       "      <td>24,517</td>\n",
       "      <td>6,078</td>\n",
       "      <td>1,861</td>\n",
       "    </tr>\n",
       "    <tr>\n",
       "      <th>부산광역시</th>\n",
       "      <td>44,537</td>\n",
       "      <td>64,853</td>\n",
       "      <td>64,493</td>\n",
       "      <td>65,272</td>\n",
       "      <td>97,010</td>\n",
       "      <td>105,959</td>\n",
       "      <td>93,139</td>\n",
       "      <td>106,723</td>\n",
       "      <td>121,737</td>\n",
       "      <td>128,684</td>\n",
       "      <td>...</td>\n",
       "      <td>141,384</td>\n",
       "      <td>161,156</td>\n",
       "      <td>126,185</td>\n",
       "      <td>93,816</td>\n",
       "      <td>67,840</td>\n",
       "      <td>50,301</td>\n",
       "      <td>26,400</td>\n",
       "      <td>9,628</td>\n",
       "      <td>2,094</td>\n",
       "      <td>606</td>\n",
       "    </tr>\n",
       "  </tbody>\n",
       "</table>\n",
       "<p>3 rows × 21 columns</p>\n",
       "</div>"
      ],
      "text/plain": [
       "          0~4세.1     5~9세.1   10~14세.1   15~19세.1   20~24세.1   25~29세.1  \\\n",
       "행정기관                                                                      \n",
       "전국       771,303  1,101,805  1,144,939  1,145,215  1,526,366  1,672,811   \n",
       "서울특별시    123,241    168,611    179,966    193,037    323,074    422,092   \n",
       "부산광역시     44,537     64,853     64,493     65,272     97,010    105,959   \n",
       "\n",
       "          30~34세.1   35~39세.1   40~44세.1   45~49세.1  ...   55~59세.1  \\\n",
       "행정기관                                                 ...              \n",
       "전국       1,521,351  1,753,338  1,951,550  2,083,054  ...  2,025,437   \n",
       "서울특별시      365,324    359,907    368,287    387,183  ...    360,552   \n",
       "부산광역시       93,139    106,723    121,737    128,684  ...    141,384   \n",
       "\n",
       "          60~64세.1   65~69세.1   70~74세.1 75~79세.1 80~84세.1 85~89세.1 90~94세.1  \\\n",
       "행정기관                                                                           \n",
       "전국       2,079,924  1,512,769  1,120,875  906,147  728,667  427,321  162,110   \n",
       "서울특별시      381,520    290,836    216,436  162,845  113,074   61,027   24,517   \n",
       "부산광역시      161,156    126,185     93,816   67,840   50,301   26,400    9,628   \n",
       "\n",
       "        95~99세.1 100세 이상.1  \n",
       "행정기관                        \n",
       "전국        37,494     8,599  \n",
       "서울특별시      6,078     1,861  \n",
       "부산광역시      2,094       606  \n",
       "\n",
       "[3 rows x 21 columns]"
      ]
     },
     "execution_count": 37,
     "metadata": {},
     "output_type": "execute_result"
    }
   ],
   "source": [
    "df_w = pd.read_excel(file_name, skiprows = 3,index_col='행정기관', usecols='B,AB:AV')\n",
    "df_w.head(3)"
   ]
  },
  {
   "cell_type": "code",
   "execution_count": 40,
   "id": "e12c5e47",
   "metadata": {},
   "outputs": [
    {
     "data": {
      "text/plain": [
       "Index(['0~4세', '5~9세', '10~14세', '15~19세', '20~24세', '25~29세', '30~34세',\n",
       "       '35~39세', '40~44세', '45~49세', '50~54세', '55~59세', '60~64세', '65~69세',\n",
       "       '70~74세', '75~79세', '80~84세', '85~89세', '90~94세', '95~99세', '100세 이상'],\n",
       "      dtype='object')"
      ]
     },
     "execution_count": 40,
     "metadata": {},
     "output_type": "execute_result"
    }
   ],
   "source": [
    "df_m.columns"
   ]
  },
  {
   "cell_type": "code",
   "execution_count": 41,
   "id": "4089c3d4",
   "metadata": {},
   "outputs": [
    {
     "data": {
      "text/plain": [
       "Index(['0~4세.1', '5~9세.1', '10~14세.1', '15~19세.1', '20~24세.1', '25~29세.1',\n",
       "       '30~34세.1', '35~39세.1', '40~44세.1', '45~49세.1', '50~54세.1', '55~59세.1',\n",
       "       '60~64세.1', '65~69세.1', '70~74세.1', '75~79세.1', '80~84세.1', '85~89세.1',\n",
       "       '90~94세.1', '95~99세.1', '100세 이상.1'],\n",
       "      dtype='object')"
      ]
     },
     "execution_count": 41,
     "metadata": {},
     "output_type": "execute_result"
    }
   ],
   "source": [
    "df_w.columns"
   ]
  },
  {
   "cell_type": "code",
   "execution_count": 45,
   "id": "d44460c7",
   "metadata": {},
   "outputs": [],
   "source": [
    "df_w.columns = df_m.columns\n",
    "df_w.columns"
   ]
  },
  {
   "cell_type": "code",
   "execution_count": 43,
   "id": "cb40e44d",
   "metadata": {},
   "outputs": [],
   "source": [
    "df_w.iloc[0] = df_w.iloc[0].str.replace(',','').astype(int)"
   ]
  },
  {
   "cell_type": "code",
   "execution_count": 44,
   "id": "49e2db27",
   "metadata": {},
   "outputs": [
    {
     "data": {
      "text/html": [
       "<div>\n",
       "<style scoped>\n",
       "    .dataframe tbody tr th:only-of-type {\n",
       "        vertical-align: middle;\n",
       "    }\n",
       "\n",
       "    .dataframe tbody tr th {\n",
       "        vertical-align: top;\n",
       "    }\n",
       "\n",
       "    .dataframe thead th {\n",
       "        text-align: right;\n",
       "    }\n",
       "</style>\n",
       "<table border=\"1\" class=\"dataframe\">\n",
       "  <thead>\n",
       "    <tr style=\"text-align: right;\">\n",
       "      <th></th>\n",
       "      <th>0~4세</th>\n",
       "      <th>5~9세</th>\n",
       "      <th>10~14세</th>\n",
       "      <th>15~19세</th>\n",
       "      <th>20~24세</th>\n",
       "      <th>25~29세</th>\n",
       "      <th>30~34세</th>\n",
       "      <th>35~39세</th>\n",
       "      <th>40~44세</th>\n",
       "      <th>45~49세</th>\n",
       "      <th>...</th>\n",
       "      <th>55~59세</th>\n",
       "      <th>60~64세</th>\n",
       "      <th>65~69세</th>\n",
       "      <th>70~74세</th>\n",
       "      <th>75~79세</th>\n",
       "      <th>80~84세</th>\n",
       "      <th>85~89세</th>\n",
       "      <th>90~94세</th>\n",
       "      <th>95~99세</th>\n",
       "      <th>100세 이상</th>\n",
       "    </tr>\n",
       "    <tr>\n",
       "      <th>행정기관</th>\n",
       "      <th></th>\n",
       "      <th></th>\n",
       "      <th></th>\n",
       "      <th></th>\n",
       "      <th></th>\n",
       "      <th></th>\n",
       "      <th></th>\n",
       "      <th></th>\n",
       "      <th></th>\n",
       "      <th></th>\n",
       "      <th></th>\n",
       "      <th></th>\n",
       "      <th></th>\n",
       "      <th></th>\n",
       "      <th></th>\n",
       "      <th></th>\n",
       "      <th></th>\n",
       "      <th></th>\n",
       "      <th></th>\n",
       "      <th></th>\n",
       "      <th></th>\n",
       "    </tr>\n",
       "  </thead>\n",
       "  <tbody>\n",
       "    <tr>\n",
       "      <th>전국</th>\n",
       "      <td>771303</td>\n",
       "      <td>1101805</td>\n",
       "      <td>1144939</td>\n",
       "      <td>1145215</td>\n",
       "      <td>1526366</td>\n",
       "      <td>1672811</td>\n",
       "      <td>1521351</td>\n",
       "      <td>1753338</td>\n",
       "      <td>1951550</td>\n",
       "      <td>2083054</td>\n",
       "      <td>...</td>\n",
       "      <td>2025437</td>\n",
       "      <td>2079924</td>\n",
       "      <td>1512769</td>\n",
       "      <td>1120875</td>\n",
       "      <td>906147</td>\n",
       "      <td>728667</td>\n",
       "      <td>427321</td>\n",
       "      <td>162110</td>\n",
       "      <td>37494</td>\n",
       "      <td>8599</td>\n",
       "    </tr>\n",
       "    <tr>\n",
       "      <th>서울특별시</th>\n",
       "      <td>123,241</td>\n",
       "      <td>168,611</td>\n",
       "      <td>179,966</td>\n",
       "      <td>193,037</td>\n",
       "      <td>323,074</td>\n",
       "      <td>422,092</td>\n",
       "      <td>365,324</td>\n",
       "      <td>359,907</td>\n",
       "      <td>368,287</td>\n",
       "      <td>387,183</td>\n",
       "      <td>...</td>\n",
       "      <td>360,552</td>\n",
       "      <td>381,520</td>\n",
       "      <td>290,836</td>\n",
       "      <td>216,436</td>\n",
       "      <td>162,845</td>\n",
       "      <td>113,074</td>\n",
       "      <td>61,027</td>\n",
       "      <td>24,517</td>\n",
       "      <td>6,078</td>\n",
       "      <td>1,861</td>\n",
       "    </tr>\n",
       "    <tr>\n",
       "      <th>부산광역시</th>\n",
       "      <td>44,537</td>\n",
       "      <td>64,853</td>\n",
       "      <td>64,493</td>\n",
       "      <td>65,272</td>\n",
       "      <td>97,010</td>\n",
       "      <td>105,959</td>\n",
       "      <td>93,139</td>\n",
       "      <td>106,723</td>\n",
       "      <td>121,737</td>\n",
       "      <td>128,684</td>\n",
       "      <td>...</td>\n",
       "      <td>141,384</td>\n",
       "      <td>161,156</td>\n",
       "      <td>126,185</td>\n",
       "      <td>93,816</td>\n",
       "      <td>67,840</td>\n",
       "      <td>50,301</td>\n",
       "      <td>26,400</td>\n",
       "      <td>9,628</td>\n",
       "      <td>2,094</td>\n",
       "      <td>606</td>\n",
       "    </tr>\n",
       "  </tbody>\n",
       "</table>\n",
       "<p>3 rows × 21 columns</p>\n",
       "</div>"
      ],
      "text/plain": [
       "            0~4세     5~9세   10~14세   15~19세   20~24세   25~29세   30~34세  \\\n",
       "행정기관                                                                     \n",
       "전국        771303  1101805  1144939  1145215  1526366  1672811  1521351   \n",
       "서울특별시    123,241  168,611  179,966  193,037  323,074  422,092  365,324   \n",
       "부산광역시     44,537   64,853   64,493   65,272   97,010  105,959   93,139   \n",
       "\n",
       "          35~39세   40~44세   45~49세  ...   55~59세   60~64세   65~69세   70~74세  \\\n",
       "행정기관                                ...                                       \n",
       "전국       1753338  1951550  2083054  ...  2025437  2079924  1512769  1120875   \n",
       "서울특별시    359,907  368,287  387,183  ...  360,552  381,520  290,836  216,436   \n",
       "부산광역시    106,723  121,737  128,684  ...  141,384  161,156  126,185   93,816   \n",
       "\n",
       "          75~79세   80~84세  85~89세  90~94세 95~99세 100세 이상  \n",
       "행정기관                                                      \n",
       "전국        906147   728667  427321  162110  37494    8599  \n",
       "서울특별시    162,845  113,074  61,027  24,517  6,078   1,861  \n",
       "부산광역시     67,840   50,301  26,400   9,628  2,094     606  \n",
       "\n",
       "[3 rows x 21 columns]"
      ]
     },
     "execution_count": 44,
     "metadata": {},
     "output_type": "execute_result"
    }
   ],
   "source": [
    "df_w.head(3)"
   ]
  },
  {
   "cell_type": "markdown",
   "id": "6c95894e",
   "metadata": {},
   "source": [
    "## 데이터 시각화"
   ]
  },
  {
   "cell_type": "code",
   "execution_count": 24,
   "id": "dbaab897",
   "metadata": {},
   "outputs": [],
   "source": [
    "import matplotlib.pyplot as plt\n",
    "import matplotlib\n",
    "matplotlib.rcParams['font.family'] = 'Malgun Gothic'\n",
    "matplotlib.rcParams['font.size'] = 15\n",
    "matplotlib.rcParams['axes.unicode_minus'] = False "
   ]
  },
  {
   "cell_type": "code",
   "execution_count": 25,
   "id": "04b729b6",
   "metadata": {},
   "outputs": [
    {
     "data": {
      "image/png": "[encoded data removed]",
      "text/plain": [
       "<Figure size 720x504 with 1 Axes>"
      ]
     },
     "metadata": {
      "needs_background": "light"
     },
     "output_type": "display_data"
    }
   ],
   "source": [
    "plt.figure(figsize=(10,7))\n",
    "plt.barh(df_m.columns, -df_m.iloc[0] // 1000 )\n",
    "plt.barh(df_w.columns, df_w.iloc[0] // 1000 )\n",
    "plt.title('2021년 대한민국 인구 피라미드')\n",
    "plt.savefig('2021_인구피라미드.png',dpi=100)\n",
    "plt.show()"
   ]
  },
  {
   "cell_type": "code",
   "execution_count": null,
   "id": "66530ad6",
   "metadata": {},
   "outputs": [],
   "source": []
  }
 ],
 "metadata": {
  "kernelspec": {
   "display_name": "Python 3 (ipykernel)",
   "language": "python",
   "name": "python3"
  },
  "language_info": {
   "codemirror_mode": {
    "name": "ipython",
    "version": 3
   },
   "file_extension": ".py",
   "mimetype": "text/x-python",
   "name": "python",
   "nbconvert_exporter": "python",
   "pygments_lexer": "ipython3",
   "version": "3.9.12"
  }
 },
 "nbformat": 4,
 "nbformat_minor": 5
}
